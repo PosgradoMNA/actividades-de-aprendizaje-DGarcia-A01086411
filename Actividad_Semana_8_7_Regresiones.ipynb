{
  "nbformat": 4,
  "nbformat_minor": 0,
  "metadata": {
    "colab": {
      "provenance": [],
      "authorship_tag": "ABX9TyM9QE0fOp6jcn/EMi59VXBw",
      "include_colab_link": true
    },
    "kernelspec": {
      "name": "python3",
      "display_name": "Python 3"
    },
    "language_info": {
      "name": "python"
    }
  },
  "cells": [
    {
      "cell_type": "markdown",
      "metadata": {
        "id": "view-in-github",
        "colab_type": "text"
      },
      "source": [
        "<a href=\"https://colab.research.google.com/github/PosgradoMNA/actividades-de-aprendizaje-DGarcia-A01086411/blob/main/Actividad_Semana_8_7_Regresiones.ipynb\" target=\"_parent\"><img src=\"https://colab.research.google.com/assets/colab-badge.svg\" alt=\"Open In Colab\"/></a>"
      ]
    },
    {
      "cell_type": "markdown",
      "source": [
        "#David Eduardo Garcia Reyes - A01086411\n",
        "\n",
        "##Actividad Semana 8 - 7 Regresiones"
      ],
      "metadata": {
        "id": "-_NI9N2Jn8d_"
      }
    },
    {
      "cell_type": "markdown",
      "source": [
        "#**EJERCICIO 1 - Costo en la industria de la manufactura**"
      ],
      "metadata": {
        "id": "Xm_efkICoD3z"
      }
    },
    {
      "cell_type": "markdown",
      "source": [
        "##Divide los datos del costo de manufactura. Utiliza la función train_test_split (viene el ejemplo al final del notebook).\n",
        "##Regresión Lineal.\n",
        "###Realiza la regresión lineal: modelo generado (ecuación), su visualización, sus errores y r cuadrada.\n",
        "##Regresión Polinomial.\n",
        "###Realiza la  regresión polinomial completa, tu modelo generado (ecuación), su visualización, sus errores y r cuadrada.\n",
        "##Realiza la regresión con Ridge y Lasso. Incluye la ecuación de tu modelo, visualización , errores y r cuadrada.\n",
        "##Finalmente grafica :\n",
        "###MAE (de los cuatro métodos)\n",
        "###R^2 (de los cuatro métodos)\n",
        "##Explica tus resultados, que método conviene más a la empresa, ¿por que?, ¿que porcentajes de entrenamiento y evaluación usaste?, ¿que error tienes?, ¿es bueno?, ¿cómo lo sabes?"
      ],
      "metadata": {
        "id": "p2-drYMaoH9W"
      }
    },
    {
      "cell_type": "code",
      "source": [
        "#Importar librerias necesarias\n",
        "import numpy as np\n",
        "%matplotlib inline\n",
        "import matplotlib\n",
        "import matplotlib.pyplot as plt\n",
        "import pandas as pd\n",
        "import seaborn as sns\n",
        "import sklearn.metrics as metrics\n",
        "from sklearn.metrics import r2_score"
      ],
      "metadata": {
        "id": "VAuXLdfbojlT"
      },
      "execution_count": 1,
      "outputs": []
    },
    {
      "cell_type": "code",
      "source": [
        "#Cargar dataset\n",
        "df = pd.read_csv('https://raw.githubusercontent.com/marypazrf/bdd/main/EconomiesOfScale.csv')\n",
        "df.sample(10)"
      ],
      "metadata": {
        "colab": {
          "base_uri": "https://localhost:8080/",
          "height": 363
        },
        "id": "WOJxEUksq1Kb",
        "outputId": "9956c75f-e08e-4df1-a8e3-a29f0b4152c2"
      },
      "execution_count": 2,
      "outputs": [
        {
          "output_type": "execute_result",
          "data": {
            "text/plain": [
              "     Number of Units  Manufacturing Cost\n",
              "463         4.309436           40.139700\n",
              "493         4.429052           39.501350\n",
              "282         3.721616           41.496755\n",
              "772         5.446994           32.266583\n",
              "731         5.266977           35.207129\n",
              "113         2.872303           45.302208\n",
              "296         3.762414           39.668907\n",
              "572         4.668738           47.138771\n",
              "639         4.969934           37.460747\n",
              "825         5.633084           37.180147"
            ],
            "text/html": [
              "\n",
              "  <div id=\"df-fb4467e0-394f-4338-98ec-52bc9c13038d\">\n",
              "    <div class=\"colab-df-container\">\n",
              "      <div>\n",
              "<style scoped>\n",
              "    .dataframe tbody tr th:only-of-type {\n",
              "        vertical-align: middle;\n",
              "    }\n",
              "\n",
              "    .dataframe tbody tr th {\n",
              "        vertical-align: top;\n",
              "    }\n",
              "\n",
              "    .dataframe thead th {\n",
              "        text-align: right;\n",
              "    }\n",
              "</style>\n",
              "<table border=\"1\" class=\"dataframe\">\n",
              "  <thead>\n",
              "    <tr style=\"text-align: right;\">\n",
              "      <th></th>\n",
              "      <th>Number of Units</th>\n",
              "      <th>Manufacturing Cost</th>\n",
              "    </tr>\n",
              "  </thead>\n",
              "  <tbody>\n",
              "    <tr>\n",
              "      <th>463</th>\n",
              "      <td>4.309436</td>\n",
              "      <td>40.139700</td>\n",
              "    </tr>\n",
              "    <tr>\n",
              "      <th>493</th>\n",
              "      <td>4.429052</td>\n",
              "      <td>39.501350</td>\n",
              "    </tr>\n",
              "    <tr>\n",
              "      <th>282</th>\n",
              "      <td>3.721616</td>\n",
              "      <td>41.496755</td>\n",
              "    </tr>\n",
              "    <tr>\n",
              "      <th>772</th>\n",
              "      <td>5.446994</td>\n",
              "      <td>32.266583</td>\n",
              "    </tr>\n",
              "    <tr>\n",
              "      <th>731</th>\n",
              "      <td>5.266977</td>\n",
              "      <td>35.207129</td>\n",
              "    </tr>\n",
              "    <tr>\n",
              "      <th>113</th>\n",
              "      <td>2.872303</td>\n",
              "      <td>45.302208</td>\n",
              "    </tr>\n",
              "    <tr>\n",
              "      <th>296</th>\n",
              "      <td>3.762414</td>\n",
              "      <td>39.668907</td>\n",
              "    </tr>\n",
              "    <tr>\n",
              "      <th>572</th>\n",
              "      <td>4.668738</td>\n",
              "      <td>47.138771</td>\n",
              "    </tr>\n",
              "    <tr>\n",
              "      <th>639</th>\n",
              "      <td>4.969934</td>\n",
              "      <td>37.460747</td>\n",
              "    </tr>\n",
              "    <tr>\n",
              "      <th>825</th>\n",
              "      <td>5.633084</td>\n",
              "      <td>37.180147</td>\n",
              "    </tr>\n",
              "  </tbody>\n",
              "</table>\n",
              "</div>\n",
              "      <button class=\"colab-df-convert\" onclick=\"convertToInteractive('df-fb4467e0-394f-4338-98ec-52bc9c13038d')\"\n",
              "              title=\"Convert this dataframe to an interactive table.\"\n",
              "              style=\"display:none;\">\n",
              "        \n",
              "  <svg xmlns=\"http://www.w3.org/2000/svg\" height=\"24px\"viewBox=\"0 0 24 24\"\n",
              "       width=\"24px\">\n",
              "    <path d=\"M0 0h24v24H0V0z\" fill=\"none\"/>\n",
              "    <path d=\"M18.56 5.44l.94 2.06.94-2.06 2.06-.94-2.06-.94-.94-2.06-.94 2.06-2.06.94zm-11 1L8.5 8.5l.94-2.06 2.06-.94-2.06-.94L8.5 2.5l-.94 2.06-2.06.94zm10 10l.94 2.06.94-2.06 2.06-.94-2.06-.94-.94-2.06-.94 2.06-2.06.94z\"/><path d=\"M17.41 7.96l-1.37-1.37c-.4-.4-.92-.59-1.43-.59-.52 0-1.04.2-1.43.59L10.3 9.45l-7.72 7.72c-.78.78-.78 2.05 0 2.83L4 21.41c.39.39.9.59 1.41.59.51 0 1.02-.2 1.41-.59l7.78-7.78 2.81-2.81c.8-.78.8-2.07 0-2.86zM5.41 20L4 18.59l7.72-7.72 1.47 1.35L5.41 20z\"/>\n",
              "  </svg>\n",
              "      </button>\n",
              "      \n",
              "  <style>\n",
              "    .colab-df-container {\n",
              "      display:flex;\n",
              "      flex-wrap:wrap;\n",
              "      gap: 12px;\n",
              "    }\n",
              "\n",
              "    .colab-df-convert {\n",
              "      background-color: #E8F0FE;\n",
              "      border: none;\n",
              "      border-radius: 50%;\n",
              "      cursor: pointer;\n",
              "      display: none;\n",
              "      fill: #1967D2;\n",
              "      height: 32px;\n",
              "      padding: 0 0 0 0;\n",
              "      width: 32px;\n",
              "    }\n",
              "\n",
              "    .colab-df-convert:hover {\n",
              "      background-color: #E2EBFA;\n",
              "      box-shadow: 0px 1px 2px rgba(60, 64, 67, 0.3), 0px 1px 3px 1px rgba(60, 64, 67, 0.15);\n",
              "      fill: #174EA6;\n",
              "    }\n",
              "\n",
              "    [theme=dark] .colab-df-convert {\n",
              "      background-color: #3B4455;\n",
              "      fill: #D2E3FC;\n",
              "    }\n",
              "\n",
              "    [theme=dark] .colab-df-convert:hover {\n",
              "      background-color: #434B5C;\n",
              "      box-shadow: 0px 1px 3px 1px rgba(0, 0, 0, 0.15);\n",
              "      filter: drop-shadow(0px 1px 2px rgba(0, 0, 0, 0.3));\n",
              "      fill: #FFFFFF;\n",
              "    }\n",
              "  </style>\n",
              "\n",
              "      <script>\n",
              "        const buttonEl =\n",
              "          document.querySelector('#df-fb4467e0-394f-4338-98ec-52bc9c13038d button.colab-df-convert');\n",
              "        buttonEl.style.display =\n",
              "          google.colab.kernel.accessAllowed ? 'block' : 'none';\n",
              "\n",
              "        async function convertToInteractive(key) {\n",
              "          const element = document.querySelector('#df-fb4467e0-394f-4338-98ec-52bc9c13038d');\n",
              "          const dataTable =\n",
              "            await google.colab.kernel.invokeFunction('convertToInteractive',\n",
              "                                                     [key], {});\n",
              "          if (!dataTable) return;\n",
              "\n",
              "          const docLinkHtml = 'Like what you see? Visit the ' +\n",
              "            '<a target=\"_blank\" href=https://colab.research.google.com/notebooks/data_table.ipynb>data table notebook</a>'\n",
              "            + ' to learn more about interactive tables.';\n",
              "          element.innerHTML = '';\n",
              "          dataTable['output_type'] = 'display_data';\n",
              "          await google.colab.output.renderOutput(dataTable, element);\n",
              "          const docLink = document.createElement('div');\n",
              "          docLink.innerHTML = docLinkHtml;\n",
              "          element.appendChild(docLink);\n",
              "        }\n",
              "      </script>\n",
              "    </div>\n",
              "  </div>\n",
              "  "
            ]
          },
          "metadata": {},
          "execution_count": 2
        }
      ]
    },
    {
      "cell_type": "code",
      "execution_count": 3,
      "metadata": {
        "id": "Iy17YY80nrf9"
      },
      "outputs": [],
      "source": [
        "X = df[['Number of Units']]\n",
        "Y = df['Manufacturing Cost']"
      ]
    },
    {
      "cell_type": "code",
      "source": [
        "len(X)"
      ],
      "metadata": {
        "colab": {
          "base_uri": "https://localhost:8080/"
        },
        "id": "VCNMvObIoqw7",
        "outputId": "23c1f2a0-4d12-428b-f1c0-6ab2e91fe82e"
      },
      "execution_count": 4,
      "outputs": [
        {
          "output_type": "execute_result",
          "data": {
            "text/plain": [
              "1000"
            ]
          },
          "metadata": {},
          "execution_count": 4
        }
      ]
    },
    {
      "cell_type": "code",
      "source": [
        "Y.describe"
      ],
      "metadata": {
        "colab": {
          "base_uri": "https://localhost:8080/"
        },
        "id": "UOHc5DklosYo",
        "outputId": "05424d9d-5082-45e6-ea31-9fec5454b218"
      },
      "execution_count": 5,
      "outputs": [
        {
          "output_type": "execute_result",
          "data": {
            "text/plain": [
              "<bound method NDFrame.describe of 0      95.066056\n",
              "1      96.531750\n",
              "2      73.661311\n",
              "3      95.566843\n",
              "4      98.777013\n",
              "         ...    \n",
              "995    23.855067\n",
              "996    27.536542\n",
              "997    25.973787\n",
              "998    25.138311\n",
              "999    21.547777\n",
              "Name: Manufacturing Cost, Length: 1000, dtype: float64>"
            ]
          },
          "metadata": {},
          "execution_count": 5
        }
      ]
    },
    {
      "cell_type": "code",
      "source": [
        "plt.plot(X,Y,'b.')"
      ],
      "metadata": {
        "colab": {
          "base_uri": "https://localhost:8080/",
          "height": 282
        },
        "id": "Vs3JKzjKoumv",
        "outputId": "8ea83351-9993-491e-a9c7-e6beb6d8c0e5"
      },
      "execution_count": 6,
      "outputs": [
        {
          "output_type": "execute_result",
          "data": {
            "text/plain": [
              "[<matplotlib.lines.Line2D at 0x7f4ec3504d50>]"
            ]
          },
          "metadata": {},
          "execution_count": 6
        },
        {
          "output_type": "display_data",
          "data": {
            "text/plain": [
              "<Figure size 432x288 with 1 Axes>"
            ],
            "image/png": "[encoded data removed]"
          },
          "metadata": {
            "needs_background": "light"
          }
        }
      ]
    },
    {
      "cell_type": "code",
      "source": [
        "#Dividir los datos de costos de manufactura\n",
        "from sklearn.model_selection import train_test_split\n",
        "x_train, x_test, y_train, y_test = train_test_split(X, Y, test_size=0.20, random_state=1)\n",
        "print(\"number of test samples :\", x_test.shape[0])\n",
        "print(\"number of training samples:\",x_train.shape[0])"
      ],
      "metadata": {
        "colab": {
          "base_uri": "https://localhost:8080/"
        },
        "id": "S-a4UXjZrt8N",
        "outputId": "29a0c292-2e1a-48f3-a4d2-f641373cd841"
      },
      "execution_count": 7,
      "outputs": [
        {
          "output_type": "stream",
          "name": "stdout",
          "text": [
            "number of test samples : 200\n",
            "number of training samples: 800\n"
          ]
        }
      ]
    },
    {
      "cell_type": "code",
      "source": [
        "#Regresion Lineal"
      ],
      "metadata": {
        "id": "VVzogkAorFLJ"
      },
      "execution_count": 8,
      "outputs": []
    },
    {
      "cell_type": "code",
      "source": [
        "from sklearn.linear_model import LinearRegression\n",
        "linear_reg = LinearRegression(fit_intercept=True)\n",
        "linear_reg.fit(x_train, y_train)\n",
        "linear_reg.coef_, linear_reg.intercept_"
      ],
      "metadata": {
        "colab": {
          "base_uri": "https://localhost:8080/"
        },
        "id": "edLjLa5urI04",
        "outputId": "bb8265a7-99a3-45f1-bcd6-27499ba637d1"
      },
      "execution_count": 9,
      "outputs": [
        {
          "output_type": "execute_result",
          "data": {
            "text/plain": [
              "(array([-6.04244726]), 67.01306355970974)"
            ]
          },
          "metadata": {},
          "execution_count": 9
        }
      ]
    },
    {
      "cell_type": "markdown",
      "source": [
        "Ecuación:\n",
        "\n",
        "$\\hat{y} = -6.0424X + 67.0130$"
      ],
      "metadata": {
        "id": "7BRooxWmu-XK"
      }
    },
    {
      "cell_type": "code",
      "source": [
        "#Visualizar prediccion\n",
        "X_fit = np.linspace(1, 10, 100)\n",
        "y_fit = linear_reg.predict(X_fit[:, np.newaxis])\n",
        "\n",
        "plt.scatter(X, Y)\n",
        "plt.plot(X_fit, y_fit, \"r-\", linewidth=2, label=\"Predictions\")\n",
        "plt.xlabel(\"$X$\", fontsize=18)\n",
        "plt.ylabel(\"$y$\", rotation=0, fontsize=18)\n",
        "plt.legend(loc=\"upper left\", fontsize=14);"
      ],
      "metadata": {
        "colab": {
          "base_uri": "https://localhost:8080/",
          "height": 322
        },
        "id": "7MMWmGL-t6qj",
        "outputId": "c653de7e-4b44-4379-ffb1-21791ea0ad36"
      },
      "execution_count": 10,
      "outputs": [
        {
          "output_type": "stream",
          "name": "stderr",
          "text": [
            "/usr/local/lib/python3.7/dist-packages/sklearn/base.py:451: UserWarning: X does not have valid feature names, but LinearRegression was fitted with feature names\n",
            "  \"X does not have valid feature names, but\"\n"
          ]
        },
        {
          "output_type": "display_data",
          "data": {
            "text/plain": [
              "<Figure size 432x288 with 1 Axes>"
            ],
            "image/png": "[encoded data removed]"
          },
          "metadata": {
            "needs_background": "light"
          }
        }
      ]
    },
    {
      "cell_type": "code",
      "source": [
        "#Lista de errores para su posterior graficacion\n",
        "Error_List = list()"
      ],
      "metadata": {
        "id": "5ysVDEM6hPIg"
      },
      "execution_count": 11,
      "outputs": []
    },
    {
      "cell_type": "code",
      "source": [
        "#MAE, R^2 Error, R^2 Score\n",
        "yhat = linear_reg.predict(X)\n",
        "MAE = metrics.mean_absolute_error(Y, yhat)\n",
        "RMSE = np.sqrt(metrics.mean_squared_error(Y, yhat))\n",
        "R2 =  r2_score(Y, yhat)\n",
        "print('Mean Absolute Error (MAE):', MAE)\n",
        "print('Root Mean Squared Error:', RMSE )\n",
        "print('R^2 Score', R2)\n",
        "\n",
        "Error_List.append({\"Regresiones\": \"Regresion lineal\", \"MAE\":MAE, \"RMSE\":RMSE, \"R2\":R2})"
      ],
      "metadata": {
        "colab": {
          "base_uri": "https://localhost:8080/"
        },
        "id": "sDpx5cbYp0co",
        "outputId": "069d4180-509d-4ae6-9da7-3440cbf76f2b"
      },
      "execution_count": 12,
      "outputs": [
        {
          "output_type": "stream",
          "name": "stdout",
          "text": [
            "Mean Absolute Error (MAE): 4.920843720260218\n",
            "Root Mean Squared Error: 6.8718075865038175\n",
            "R^2 Score 0.5789359098485234\n"
          ]
        }
      ]
    },
    {
      "cell_type": "code",
      "source": [
        "#Regresion Polinomial"
      ],
      "metadata": {
        "id": "OhHn2yknrFi7"
      },
      "execution_count": 13,
      "outputs": []
    },
    {
      "cell_type": "code",
      "source": [
        "from sklearn.preprocessing import PolynomialFeatures\n",
        "Polynomial = PolynomialFeatures(degree=2, include_bias=False)\n",
        "Polynomial_features = Polynomial.fit_transform(X)\n",
        "Polynomial_reg_model = LinearRegression()\n",
        "Polynomial_reg_model.fit(Polynomial_features, Y)\n",
        "Polynomial_reg_model.coef_, Polynomial_reg_model.intercept_"
      ],
      "metadata": {
        "colab": {
          "base_uri": "https://localhost:8080/"
        },
        "id": "oiD0Ktd0rUQY",
        "outputId": "548897fa-3c7f-4ad5-9c8c-4f1000b27624"
      },
      "execution_count": 14,
      "outputs": [
        {
          "output_type": "execute_result",
          "data": {
            "text/plain": [
              "(array([-16.82425278,   1.17336718]), 89.73719677939121)"
            ]
          },
          "metadata": {},
          "execution_count": 14
        }
      ]
    },
    {
      "cell_type": "markdown",
      "source": [
        "Ecuación:\n",
        "\n",
        "$\\hat{y} = -16.8242X + 1.1733X^2 + 89.7371$"
      ],
      "metadata": {
        "id": "m_FXHnQ0svY8"
      }
    },
    {
      "cell_type": "code",
      "source": [
        "#Visualizar prediccion\n",
        "y_predicted = Polynomial_reg_model.predict(Polynomial_features)\n",
        "\n",
        "plt.figure(figsize=(8, 4))\n",
        "plt.title(\"Predictions\", size=16)\n",
        "plt.scatter(X, Y)\n",
        "plt.plot(X, y_predicted, c=\"red\")\n",
        "plt.show()"
      ],
      "metadata": {
        "colab": {
          "base_uri": "https://localhost:8080/",
          "height": 283
        },
        "id": "-bw9m3yNsrIS",
        "outputId": "e20b4947-240e-4b3d-c7e7-f1235dbee64a"
      },
      "execution_count": 15,
      "outputs": [
        {
          "output_type": "display_data",
          "data": {
            "text/plain": [
              "<Figure size 576x288 with 1 Axes>"
            ],
            "image/png": "[encoded data removed]"
          },
          "metadata": {
            "needs_background": "light"
          }
        }
      ]
    },
    {
      "cell_type": "code",
      "source": [
        "#MAE, R^2 Error, R^2 Score\n",
        "yhat = Polynomial_reg_model.predict(Polynomial_features)\n",
        "MAE = metrics.mean_absolute_error(Y, yhat)\n",
        "RMSE = np.sqrt(metrics.mean_squared_error(Y, yhat))\n",
        "R2 =  r2_score(Y, yhat)\n",
        "print('Mean Absolute Error (MAE):', MAE)\n",
        "print('Root Mean Squared Error:', RMSE )\n",
        "print('R^2 Score', R2)\n",
        "\n",
        "Error_List.append({\"Regresiones\": \"Regresion Polinomial\", \"MAE\":MAE, \"RMSE\":RMSE, \"R2\":R2})"
      ],
      "metadata": {
        "colab": {
          "base_uri": "https://localhost:8080/"
        },
        "id": "6WL6KckOtnlT",
        "outputId": "9910b730-54be-45ae-ee77-d6f1e39e0bfe"
      },
      "execution_count": 16,
      "outputs": [
        {
          "output_type": "stream",
          "name": "stdout",
          "text": [
            "Mean Absolute Error (MAE): 4.538765565228896\n",
            "Root Mean Squared Error: 6.129173450227568\n",
            "R^2 Score 0.6650268116056028\n"
          ]
        }
      ]
    },
    {
      "cell_type": "code",
      "source": [
        "#Regresion Ridge"
      ],
      "metadata": {
        "id": "sJhtkcPkueGj"
      },
      "execution_count": 17,
      "outputs": []
    },
    {
      "cell_type": "code",
      "source": [
        "from sklearn.linear_model import Ridge\n",
        "Ridge_regr = Ridge(fit_intercept=True)\n",
        "Ridge_regr.fit(x_train, y_train)\n",
        "y_new = Ridge_regr.predict(x_test)\n",
        "Ridge_regr.coef_, Ridge_regr.intercept_"
      ],
      "metadata": {
        "colab": {
          "base_uri": "https://localhost:8080/"
        },
        "id": "xuGwsXMWughH",
        "outputId": "889b508e-38e6-484a-bea2-a75f43dadf99"
      },
      "execution_count": 18,
      "outputs": [
        {
          "output_type": "execute_result",
          "data": {
            "text/plain": [
              "(array([-6.03819131]), 66.99400595374111)"
            ]
          },
          "metadata": {},
          "execution_count": 18
        }
      ]
    },
    {
      "cell_type": "markdown",
      "source": [
        "Ecuación:\n",
        "\n",
        "$\\hat{y} = -6.0381X + 66.9940$"
      ],
      "metadata": {
        "id": "lMr1t1_fu_46"
      }
    },
    {
      "cell_type": "code",
      "source": [
        "#Visualizar prediccion\n",
        "x_fit = np.linspace(1, 10, 100)\n",
        "y_fit = Ridge_regr.predict(x_fit[:, np.newaxis])\n",
        "\n",
        "plt.scatter(x_train, y_train)\n",
        "plt.plot(x_fit, y_fit, \"r-\", linewidth=2, label=\"Predictions\")\n",
        "plt.xlabel(\"$X$\", fontsize=18)\n",
        "plt.ylabel(\"$y$\", rotation=0, fontsize=18)\n",
        "plt.legend(loc=\"upper left\", fontsize=14);"
      ],
      "metadata": {
        "colab": {
          "base_uri": "https://localhost:8080/",
          "height": 322
        },
        "id": "eA883AjVvGAt",
        "outputId": "cdb40227-4c5b-479d-de16-058b39bd9513"
      },
      "execution_count": 19,
      "outputs": [
        {
          "output_type": "stream",
          "name": "stderr",
          "text": [
            "/usr/local/lib/python3.7/dist-packages/sklearn/base.py:451: UserWarning: X does not have valid feature names, but Ridge was fitted with feature names\n",
            "  \"X does not have valid feature names, but\"\n"
          ]
        },
        {
          "output_type": "display_data",
          "data": {
            "text/plain": [
              "<Figure size 432x288 with 1 Axes>"
            ],
            "image/png": "[encoded data removed]"
          },
          "metadata": {
            "needs_background": "light"
          }
        }
      ]
    },
    {
      "cell_type": "code",
      "source": [
        "#MAE, R^2 Error, R^2 Score\n",
        "yhat = Ridge_regr.predict(X)\n",
        "MAE = metrics.mean_absolute_error(Y, yhat)\n",
        "RMSE = np.sqrt(metrics.mean_squared_error(Y, yhat))\n",
        "R2 =  r2_score(Y, yhat)\n",
        "print('Mean Absolute Error (MAE):', MAE)\n",
        "print('Root Mean Squared Error:', RMSE )\n",
        "print('R^2 Score', R2)\n",
        "\n",
        "Error_List.append({\"Regresiones\": \"Reg. Ridge\", \"MAE\":MAE, \"RMSE\":RMSE, \"R2\":R2})"
      ],
      "metadata": {
        "colab": {
          "base_uri": "https://localhost:8080/"
        },
        "id": "dYQlxzaUvfr1",
        "outputId": "0e0589f8-fe28-4c17-8429-cf8a2ceaa30f"
      },
      "execution_count": 20,
      "outputs": [
        {
          "output_type": "stream",
          "name": "stdout",
          "text": [
            "Mean Absolute Error (MAE): 4.920334804939648\n",
            "Root Mean Squared Error: 6.871800116619259\n",
            "R^2 Score 0.5789368252695086\n"
          ]
        }
      ]
    },
    {
      "cell_type": "code",
      "source": [
        "#Regresion Lasso"
      ],
      "metadata": {
        "id": "4u5dVpaRwDmp"
      },
      "execution_count": 21,
      "outputs": []
    },
    {
      "cell_type": "code",
      "source": [
        "from sklearn.linear_model import Lasso\n",
        "Lasso_regr = Lasso(fit_intercept=True)\n",
        "Lasso_regr.fit(x_train, y_train)\n",
        "y_new = Lasso_regr.predict(x_test)\n",
        "Lasso_regr.coef_, Lasso_regr.intercept_"
      ],
      "metadata": {
        "colab": {
          "base_uri": "https://localhost:8080/"
        },
        "id": "I0awIpdvwIFs",
        "outputId": "f79d05e0-3526-4d77-d88a-3ff90b07cec2"
      },
      "execution_count": 22,
      "outputs": [
        {
          "output_type": "execute_result",
          "data": {
            "text/plain": [
              "(array([-5.47857595]), 64.48812123765603)"
            ]
          },
          "metadata": {},
          "execution_count": 22
        }
      ]
    },
    {
      "cell_type": "markdown",
      "source": [
        "Ecuación:\n",
        "\n",
        "$\\hat{y} = -5.4785X + 64.4881$"
      ],
      "metadata": {
        "id": "ta331aPnwWuh"
      }
    },
    {
      "cell_type": "code",
      "source": [
        "#Visualizar prediccion\n",
        "x_fit = np.linspace(1, 10, 100)\n",
        "y_fit = Lasso_regr.predict(x_fit[:, np.newaxis])\n",
        "\n",
        "plt.scatter(x_train, y_train)\n",
        "plt.plot(x_fit, y_fit, \"r-\", linewidth=2, label=\"Predictions\")\n",
        "plt.xlabel(\"$X$\", fontsize=18)\n",
        "plt.ylabel(\"$y$\", rotation=0, fontsize=18)\n",
        "plt.legend(loc=\"upper left\", fontsize=14);"
      ],
      "metadata": {
        "colab": {
          "base_uri": "https://localhost:8080/",
          "height": 322
        },
        "id": "6-0pb20vwb9D",
        "outputId": "69833705-9653-4431-e96d-a19435754231"
      },
      "execution_count": 23,
      "outputs": [
        {
          "output_type": "stream",
          "name": "stderr",
          "text": [
            "/usr/local/lib/python3.7/dist-packages/sklearn/base.py:451: UserWarning: X does not have valid feature names, but Lasso was fitted with feature names\n",
            "  \"X does not have valid feature names, but\"\n"
          ]
        },
        {
          "output_type": "display_data",
          "data": {
            "text/plain": [
              "<Figure size 432x288 with 1 Axes>"
            ],
            "image/png": "[encoded data removed]"
          },
          "metadata": {
            "needs_background": "light"
          }
        }
      ]
    },
    {
      "cell_type": "code",
      "source": [
        "#MAE, R^2 Error, R^2 Score\n",
        "yhat = Lasso_regr.predict(X)\n",
        "MAE = metrics.mean_absolute_error(Y, yhat)\n",
        "RMSE = np.sqrt(metrics.mean_squared_error(Y, yhat))\n",
        "R2 =  r2_score(Y, yhat)\n",
        "print('Mean Absolute Error (MAE):', MAE)\n",
        "print('Root Mean Squared Error:', RMSE )\n",
        "print('R^2 Score', R2)\n",
        "\n",
        "Error_List.append({\"Regresiones\": \"Reg. Lasso\", \"MAE\":MAE, \"RMSE\":RMSE, \"R2\":R2})"
      ],
      "metadata": {
        "colab": {
          "base_uri": "https://localhost:8080/"
        },
        "id": "K9t_4StYwrrC",
        "outputId": "a383756c-af78-4bdf-fae6-aea3ba20b5f2"
      },
      "execution_count": 24,
      "outputs": [
        {
          "output_type": "stream",
          "name": "stdout",
          "text": [
            "Mean Absolute Error (MAE): 4.879792294340519\n",
            "Root Mean Squared Error: 6.911657655968669\n",
            "R^2 Score 0.5740381924561732\n"
          ]
        }
      ]
    },
    {
      "cell_type": "code",
      "source": [
        "#Graficar MAE\n",
        "dfErrList = pd.DataFrame(Error_List)\n",
        "\n",
        "sns.barplot(data = dfErrList, x = 'Regresiones', y = 'MAE',  palette = 'Blues', edgecolor = 'w').set(title = \"MAE Regresiones\")\n",
        "plt.xlabel('Regresiones', fontsize=14)\n",
        "plt.tick_params(axis='both', which='major', labelsize=14, rotation=90)"
      ],
      "metadata": {
        "colab": {
          "base_uri": "https://localhost:8080/",
          "height": 435
        },
        "id": "PPoPw3VFw8Rg",
        "outputId": "5ebb3d66-6988-445b-c2f7-10f75ff998c4"
      },
      "execution_count": 37,
      "outputs": [
        {
          "output_type": "display_data",
          "data": {
            "text/plain": [
              "<Figure size 432x288 with 1 Axes>"
            ],
            "image/png": "[encoded data removed]"
          },
          "metadata": {
            "needs_background": "light"
          }
        }
      ]
    },
    {
      "cell_type": "code",
      "source": [
        "#Graficar R^2\n",
        "sns.barplot(data = dfErrList, x='Regresiones', y='R2', palette = 'Blues', edgecolor = 'w').set(title = \"R^2 Regresiones\")\n",
        "plt.xlabel('Regresiones', fontsize=14)\n",
        "plt.tick_params(axis='both', which='major', labelsize=14,   rotation=90)"
      ],
      "metadata": {
        "colab": {
          "base_uri": "https://localhost:8080/",
          "height": 435
        },
        "id": "BId7r9QEka5h",
        "outputId": "08a7453c-37f1-4b42-f82f-6fa64420e4cb"
      },
      "execution_count": 36,
      "outputs": [
        {
          "output_type": "display_data",
          "data": {
            "text/plain": [
              "<Figure size 432x288 with 1 Axes>"
            ],
            "image/png": "[encoded data removed]"
          },
          "metadata": {
            "needs_background": "light"
          }
        }
      ]
    },
    {
      "cell_type": "markdown",
      "source": [
        "**Explica tus resultados, que método conviene más a la empresa, ¿por que?, ¿que porcentajes de entrenamiento y evaluación usaste?, ¿que error tienes?, ¿es bueno?, ¿cómo lo sabes?**\n",
        "\n",
        "El metodo que mas le conviene a la empresa es el metodo de Regresion Polinomial ya que obtuvo un R^2 DE 0.65, aun asi es bajo. Convendria realizar limpieza de datos.\n",
        "\n",
        "Se utilizo un porcentaje de entrenamiento de 80% y de evaluacion de 20%"
      ],
      "metadata": {
        "id": "cZDzOTeGmAAw"
      }
    },
    {
      "cell_type": "markdown",
      "source": [
        "#**EJERCICIO 2 - Regresión Multiple**"
      ],
      "metadata": {
        "id": "XYHZUmyfpJAi"
      }
    },
    {
      "cell_type": "markdown",
      "source": [
        "##Encuentra el mejor regresor para los datos de las casas:\n",
        "\n",
        "##Divide los datos. Utiliza la función train_test_split (ya esta en el notebook).\n",
        "##Regresión Múltiple Lineal.\n",
        "###Realiza la regresión lineal: modelo generado (ecuación), sus errores y r cuadrada.\n",
        "##Regresión Múltiple Polinomial.\n",
        "###Realiza la regresión polinomial completa, tu modelo generado (ecuación), sus errores y r cuadrada.\n",
        "##Realiza la regresión con Ridge y Lasso. Incluye la ecuación de tu modelo, errores y r cuadrada.\n",
        "##Finalmente gráfica :\n",
        "###MAE (de los cuatro métodos)\n",
        "###R^2 (de los cuatro métodos)\n",
        "##Explica tus resultados, que método se aproxima mejor, ¿por qué?, ¿qué porcentajes de entrenamiento y evaluación usaste? ¿Que error tienes?, ¿es bueno?, ¿Cómo lo sabes?"
      ],
      "metadata": {
        "id": "lYtdsMv2pNks"
      }
    },
    {
      "cell_type": "code",
      "source": [
        "#Cargar dataset\n",
        "df = pd.read_csv('https://raw.githubusercontent.com/marypazrf/bdd/main/kc_house_data.csv')\n",
        "df.sample(10)"
      ],
      "metadata": {
        "colab": {
          "base_uri": "https://localhost:8080/",
          "height": 456
        },
        "id": "AAYLuc1QonLn",
        "outputId": "31f0dcfe-1d7c-4416-b35c-47b4b56bf6e2"
      },
      "execution_count": 38,
      "outputs": [
        {
          "output_type": "execute_result",
          "data": {
            "text/plain": [
              "               id             date      price  bedrooms  bathrooms  \\\n",
              "900    1923000160  20140620T000000   905000.0         4       3.50   \n",
              "9897    123039346  20150430T000000   335000.0         3       1.75   \n",
              "7152   4037200585  20140723T000000   394950.0         3       2.50   \n",
              "21024   745530180  20150317T000000   870000.0         5       3.50   \n",
              "6866   1236300290  20141022T000000  1060000.0         4       3.50   \n",
              "17927  3330501645  20150223T000000   260000.0         3       1.00   \n",
              "6652   3558000130  20140909T000000   350000.0         3       2.75   \n",
              "10346  9522400350  20141008T000000   500000.0         4       2.25   \n",
              "6428   5411600020  20150304T000000   702000.0         4       2.50   \n",
              "1982   7298020240  20140509T000000   402500.0         4       2.50   \n",
              "\n",
              "       sqft_living  sqft_lot  floors  waterfront  view  ...  grade  \\\n",
              "900           2970     14486     2.0           0     0  ...      9   \n",
              "9897          1260     17000     1.0           0     0  ...      7   \n",
              "7152          1090      7700     1.0           0     0  ...      7   \n",
              "21024         4495     10079     2.0           0     0  ...      9   \n",
              "6866          3850      8100     2.0           0     1  ...     11   \n",
              "17927         1150      3090     1.0           0     0  ...      6   \n",
              "6652          2370      4632     2.0           0     0  ...      7   \n",
              "10346         2490     23478     2.0           0     0  ...      8   \n",
              "6428          2810      4922     2.0           0     0  ...      9   \n",
              "1982          2600     11951     2.0           0     0  ...     10   \n",
              "\n",
              "       sqft_above  sqft_basement  yr_built  yr_renovated  zipcode      lat  \\\n",
              "900          2340            630      1997             0    98040  47.5627   \n",
              "9897         1260              0      1994             0    98146  47.5114   \n",
              "7152         1090              0      1957             0    98008  47.6070   \n",
              "21024        3580            915      2013             0    98011  47.7339   \n",
              "6866         2430           1420      1995             0    98033  47.6855   \n",
              "17927        1150              0      1910             0    98118  47.5506   \n",
              "6652         2370              0      2002             0    98038  47.3794   \n",
              "10346        2490              0      1981             0    98072  47.7547   \n",
              "6428         2810              0      2005             0    98074  47.6140   \n",
              "1982         2600              0      1988             0    98023  47.3053   \n",
              "\n",
              "          long  sqft_living15  sqft_lot15  \n",
              "900   -122.215           3680       14486  \n",
              "9897  -122.361           1540        7213  \n",
              "7152  -122.120           1740        7700  \n",
              "21024 -122.209           4495       10079  \n",
              "6866  -122.190           2620        9346  \n",
              "17927 -122.276           1150        5664  \n",
              "6652  -122.022           2290        5012  \n",
              "10346 -122.094           2030       12611  \n",
              "6428  -122.041           2920        4922  \n",
              "1982  -122.340           2820       12093  \n",
              "\n",
              "[10 rows x 21 columns]"
            ],
            "text/html": [
              "\n",
              "  <div id=\"df-e4ae1c47-1d8a-4ec5-a810-c40bc2f24f3a\">\n",
              "    <div class=\"colab-df-container\">\n",
              "      <div>\n",
              "<style scoped>\n",
              "    .dataframe tbody tr th:only-of-type {\n",
              "        vertical-align: middle;\n",
              "    }\n",
              "\n",
              "    .dataframe tbody tr th {\n",
              "        vertical-align: top;\n",
              "    }\n",
              "\n",
              "    .dataframe thead th {\n",
              "        text-align: right;\n",
              "    }\n",
              "</style>\n",
              "<table border=\"1\" class=\"dataframe\">\n",
              "  <thead>\n",
              "    <tr style=\"text-align: right;\">\n",
              "      <th></th>\n",
              "      <th>id</th>\n",
              "      <th>date</th>\n",
              "      <th>price</th>\n",
              "      <th>bedrooms</th>\n",
              "      <th>bathrooms</th>\n",
              "      <th>sqft_living</th>\n",
              "      <th>sqft_lot</th>\n",
              "      <th>floors</th>\n",
              "      <th>waterfront</th>\n",
              "      <th>view</th>\n",
              "      <th>...</th>\n",
              "      <th>grade</th>\n",
              "      <th>sqft_above</th>\n",
              "      <th>sqft_basement</th>\n",
              "      <th>yr_built</th>\n",
              "      <th>yr_renovated</th>\n",
              "      <th>zipcode</th>\n",
              "      <th>lat</th>\n",
              "      <th>long</th>\n",
              "      <th>sqft_living15</th>\n",
              "      <th>sqft_lot15</th>\n",
              "    </tr>\n",
              "  </thead>\n",
              "  <tbody>\n",
              "    <tr>\n",
              "      <th>900</th>\n",
              "      <td>1923000160</td>\n",
              "      <td>20140620T000000</td>\n",
              "      <td>905000.0</td>\n",
              "      <td>4</td>\n",
              "      <td>3.50</td>\n",
              "      <td>2970</td>\n",
              "      <td>14486</td>\n",
              "      <td>2.0</td>\n",
              "      <td>0</td>\n",
              "      <td>0</td>\n",
              "      <td>...</td>\n",
              "      <td>9</td>\n",
              "      <td>2340</td>\n",
              "      <td>630</td>\n",
              "      <td>1997</td>\n",
              "      <td>0</td>\n",
              "      <td>98040</td>\n",
              "      <td>47.5627</td>\n",
              "      <td>-122.215</td>\n",
              "      <td>3680</td>\n",
              "      <td>14486</td>\n",
              "    </tr>\n",
              "    <tr>\n",
              "      <th>9897</th>\n",
              "      <td>123039346</td>\n",
              "      <td>20150430T000000</td>\n",
              "      <td>335000.0</td>\n",
              "      <td>3</td>\n",
              "      <td>1.75</td>\n",
              "      <td>1260</td>\n",
              "      <td>17000</td>\n",
              "      <td>1.0</td>\n",
              "      <td>0</td>\n",
              "      <td>0</td>\n",
              "      <td>...</td>\n",
              "      <td>7</td>\n",
              "      <td>1260</td>\n",
              "      <td>0</td>\n",
              "      <td>1994</td>\n",
              "      <td>0</td>\n",
              "      <td>98146</td>\n",
              "      <td>47.5114</td>\n",
              "      <td>-122.361</td>\n",
              "      <td>1540</td>\n",
              "      <td>7213</td>\n",
              "    </tr>\n",
              "    <tr>\n",
              "      <th>7152</th>\n",
              "      <td>4037200585</td>\n",
              "      <td>20140723T000000</td>\n",
              "      <td>394950.0</td>\n",
              "      <td>3</td>\n",
              "      <td>2.50</td>\n",
              "      <td>1090</td>\n",
              "      <td>7700</td>\n",
              "      <td>1.0</td>\n",
              "      <td>0</td>\n",
              "      <td>0</td>\n",
              "      <td>...</td>\n",
              "      <td>7</td>\n",
              "      <td>1090</td>\n",
              "      <td>0</td>\n",
              "      <td>1957</td>\n",
              "      <td>0</td>\n",
              "      <td>98008</td>\n",
              "      <td>47.6070</td>\n",
              "      <td>-122.120</td>\n",
              "      <td>1740</td>\n",
              "      <td>7700</td>\n",
              "    </tr>\n",
              "    <tr>\n",
              "      <th>21024</th>\n",
              "      <td>745530180</td>\n",
              "      <td>20150317T000000</td>\n",
              "      <td>870000.0</td>\n",
              "      <td>5</td>\n",
              "      <td>3.50</td>\n",
              "      <td>4495</td>\n",
              "      <td>10079</td>\n",
              "      <td>2.0</td>\n",
              "      <td>0</td>\n",
              "      <td>0</td>\n",
              "      <td>...</td>\n",
              "      <td>9</td>\n",
              "      <td>3580</td>\n",
              "      <td>915</td>\n",
              "      <td>2013</td>\n",
              "      <td>0</td>\n",
              "      <td>98011</td>\n",
              "      <td>47.7339</td>\n",
              "      <td>-122.209</td>\n",
              "      <td>4495</td>\n",
              "      <td>10079</td>\n",
              "    </tr>\n",
              "    <tr>\n",
              "      <th>6866</th>\n",
              "      <td>1236300290</td>\n",
              "      <td>20141022T000000</td>\n",
              "      <td>1060000.0</td>\n",
              "      <td>4</td>\n",
              "      <td>3.50</td>\n",
              "      <td>3850</td>\n",
              "      <td>8100</td>\n",
              "      <td>2.0</td>\n",
              "      <td>0</td>\n",
              "      <td>1</td>\n",
              "      <td>...</td>\n",
              "      <td>11</td>\n",
              "      <td>2430</td>\n",
              "      <td>1420</td>\n",
              "      <td>1995</td>\n",
              "      <td>0</td>\n",
              "      <td>98033</td>\n",
              "      <td>47.6855</td>\n",
              "      <td>-122.190</td>\n",
              "      <td>2620</td>\n",
              "      <td>9346</td>\n",
              "    </tr>\n",
              "    <tr>\n",
              "      <th>17927</th>\n",
              "      <td>3330501645</td>\n",
              "      <td>20150223T000000</td>\n",
              "      <td>260000.0</td>\n",
              "      <td>3</td>\n",
              "      <td>1.00</td>\n",
              "      <td>1150</td>\n",
              "      <td>3090</td>\n",
              "      <td>1.0</td>\n",
              "      <td>0</td>\n",
              "      <td>0</td>\n",
              "      <td>...</td>\n",
              "      <td>6</td>\n",
              "      <td>1150</td>\n",
              "      <td>0</td>\n",
              "      <td>1910</td>\n",
              "      <td>0</td>\n",
              "      <td>98118</td>\n",
              "      <td>47.5506</td>\n",
              "      <td>-122.276</td>\n",
              "      <td>1150</td>\n",
              "      <td>5664</td>\n",
              "    </tr>\n",
              "    <tr>\n",
              "      <th>6652</th>\n",
              "      <td>3558000130</td>\n",
              "      <td>20140909T000000</td>\n",
              "      <td>350000.0</td>\n",
              "      <td>3</td>\n",
              "      <td>2.75</td>\n",
              "      <td>2370</td>\n",
              "      <td>4632</td>\n",
              "      <td>2.0</td>\n",
              "      <td>0</td>\n",
              "      <td>0</td>\n",
              "      <td>...</td>\n",
              "      <td>7</td>\n",
              "      <td>2370</td>\n",
              "      <td>0</td>\n",
              "      <td>2002</td>\n",
              "      <td>0</td>\n",
              "      <td>98038</td>\n",
              "      <td>47.3794</td>\n",
              "      <td>-122.022</td>\n",
              "      <td>2290</td>\n",
              "      <td>5012</td>\n",
              "    </tr>\n",
              "    <tr>\n",
              "      <th>10346</th>\n",
              "      <td>9522400350</td>\n",
              "      <td>20141008T000000</td>\n",
              "      <td>500000.0</td>\n",
              "      <td>4</td>\n",
              "      <td>2.25</td>\n",
              "      <td>2490</td>\n",
              "      <td>23478</td>\n",
              "      <td>2.0</td>\n",
              "      <td>0</td>\n",
              "      <td>0</td>\n",
              "      <td>...</td>\n",
              "      <td>8</td>\n",
              "      <td>2490</td>\n",
              "      <td>0</td>\n",
              "      <td>1981</td>\n",
              "      <td>0</td>\n",
              "      <td>98072</td>\n",
              "      <td>47.7547</td>\n",
              "      <td>-122.094</td>\n",
              "      <td>2030</td>\n",
              "      <td>12611</td>\n",
              "    </tr>\n",
              "    <tr>\n",
              "      <th>6428</th>\n",
              "      <td>5411600020</td>\n",
              "      <td>20150304T000000</td>\n",
              "      <td>702000.0</td>\n",
              "      <td>4</td>\n",
              "      <td>2.50</td>\n",
              "      <td>2810</td>\n",
              "      <td>4922</td>\n",
              "      <td>2.0</td>\n",
              "      <td>0</td>\n",
              "      <td>0</td>\n",
              "      <td>...</td>\n",
              "      <td>9</td>\n",
              "      <td>2810</td>\n",
              "      <td>0</td>\n",
              "      <td>2005</td>\n",
              "      <td>0</td>\n",
              "      <td>98074</td>\n",
              "      <td>47.6140</td>\n",
              "      <td>-122.041</td>\n",
              "      <td>2920</td>\n",
              "      <td>4922</td>\n",
              "    </tr>\n",
              "    <tr>\n",
              "      <th>1982</th>\n",
              "      <td>7298020240</td>\n",
              "      <td>20140509T000000</td>\n",
              "      <td>402500.0</td>\n",
              "      <td>4</td>\n",
              "      <td>2.50</td>\n",
              "      <td>2600</td>\n",
              "      <td>11951</td>\n",
              "      <td>2.0</td>\n",
              "      <td>0</td>\n",
              "      <td>0</td>\n",
              "      <td>...</td>\n",
              "      <td>10</td>\n",
              "      <td>2600</td>\n",
              "      <td>0</td>\n",
              "      <td>1988</td>\n",
              "      <td>0</td>\n",
              "      <td>98023</td>\n",
              "      <td>47.3053</td>\n",
              "      <td>-122.340</td>\n",
              "      <td>2820</td>\n",
              "      <td>12093</td>\n",
              "    </tr>\n",
              "  </tbody>\n",
              "</table>\n",
              "<p>10 rows × 21 columns</p>\n",
              "</div>\n",
              "      <button class=\"colab-df-convert\" onclick=\"convertToInteractive('df-e4ae1c47-1d8a-4ec5-a810-c40bc2f24f3a')\"\n",
              "              title=\"Convert this dataframe to an interactive table.\"\n",
              "              style=\"display:none;\">\n",
              "        \n",
              "  <svg xmlns=\"http://www.w3.org/2000/svg\" height=\"24px\"viewBox=\"0 0 24 24\"\n",
              "       width=\"24px\">\n",
              "    <path d=\"M0 0h24v24H0V0z\" fill=\"none\"/>\n",
              "    <path d=\"M18.56 5.44l.94 2.06.94-2.06 2.06-.94-2.06-.94-.94-2.06-.94 2.06-2.06.94zm-11 1L8.5 8.5l.94-2.06 2.06-.94-2.06-.94L8.5 2.5l-.94 2.06-2.06.94zm10 10l.94 2.06.94-2.06 2.06-.94-2.06-.94-.94-2.06-.94 2.06-2.06.94z\"/><path d=\"M17.41 7.96l-1.37-1.37c-.4-.4-.92-.59-1.43-.59-.52 0-1.04.2-1.43.59L10.3 9.45l-7.72 7.72c-.78.78-.78 2.05 0 2.83L4 21.41c.39.39.9.59 1.41.59.51 0 1.02-.2 1.41-.59l7.78-7.78 2.81-2.81c.8-.78.8-2.07 0-2.86zM5.41 20L4 18.59l7.72-7.72 1.47 1.35L5.41 20z\"/>\n",
              "  </svg>\n",
              "      </button>\n",
              "      \n",
              "  <style>\n",
              "    .colab-df-container {\n",
              "      display:flex;\n",
              "      flex-wrap:wrap;\n",
              "      gap: 12px;\n",
              "    }\n",
              "\n",
              "    .colab-df-convert {\n",
              "      background-color: #E8F0FE;\n",
              "      border: none;\n",
              "      border-radius: 50%;\n",
              "      cursor: pointer;\n",
              "      display: none;\n",
              "      fill: #1967D2;\n",
              "      height: 32px;\n",
              "      padding: 0 0 0 0;\n",
              "      width: 32px;\n",
              "    }\n",
              "\n",
              "    .colab-df-convert:hover {\n",
              "      background-color: #E2EBFA;\n",
              "      box-shadow: 0px 1px 2px rgba(60, 64, 67, 0.3), 0px 1px 3px 1px rgba(60, 64, 67, 0.15);\n",
              "      fill: #174EA6;\n",
              "    }\n",
              "\n",
              "    [theme=dark] .colab-df-convert {\n",
              "      background-color: #3B4455;\n",
              "      fill: #D2E3FC;\n",
              "    }\n",
              "\n",
              "    [theme=dark] .colab-df-convert:hover {\n",
              "      background-color: #434B5C;\n",
              "      box-shadow: 0px 1px 3px 1px rgba(0, 0, 0, 0.15);\n",
              "      filter: drop-shadow(0px 1px 2px rgba(0, 0, 0, 0.3));\n",
              "      fill: #FFFFFF;\n",
              "    }\n",
              "  </style>\n",
              "\n",
              "      <script>\n",
              "        const buttonEl =\n",
              "          document.querySelector('#df-e4ae1c47-1d8a-4ec5-a810-c40bc2f24f3a button.colab-df-convert');\n",
              "        buttonEl.style.display =\n",
              "          google.colab.kernel.accessAllowed ? 'block' : 'none';\n",
              "\n",
              "        async function convertToInteractive(key) {\n",
              "          const element = document.querySelector('#df-e4ae1c47-1d8a-4ec5-a810-c40bc2f24f3a');\n",
              "          const dataTable =\n",
              "            await google.colab.kernel.invokeFunction('convertToInteractive',\n",
              "                                                     [key], {});\n",
              "          if (!dataTable) return;\n",
              "\n",
              "          const docLinkHtml = 'Like what you see? Visit the ' +\n",
              "            '<a target=\"_blank\" href=https://colab.research.google.com/notebooks/data_table.ipynb>data table notebook</a>'\n",
              "            + ' to learn more about interactive tables.';\n",
              "          element.innerHTML = '';\n",
              "          dataTable['output_type'] = 'display_data';\n",
              "          await google.colab.output.renderOutput(dataTable, element);\n",
              "          const docLink = document.createElement('div');\n",
              "          docLink.innerHTML = docLinkHtml;\n",
              "          element.appendChild(docLink);\n",
              "        }\n",
              "      </script>\n",
              "    </div>\n",
              "  </div>\n",
              "  "
            ]
          },
          "metadata": {},
          "execution_count": 38
        }
      ]
    },
    {
      "cell_type": "code",
      "source": [
        "df.describe()"
      ],
      "metadata": {
        "colab": {
          "base_uri": "https://localhost:8080/",
          "height": 364
        },
        "id": "EcvBtJuKpRF8",
        "outputId": "f0887d58-5ead-4523-90e5-7a9bf4ed2e90"
      },
      "execution_count": 39,
      "outputs": [
        {
          "output_type": "execute_result",
          "data": {
            "text/plain": [
              "                 id         price      bedrooms     bathrooms   sqft_living  \\\n",
              "count  2.161300e+04  2.161300e+04  21613.000000  21613.000000  21613.000000   \n",
              "mean   4.580302e+09  5.400881e+05      3.370842      2.114757   2079.899736   \n",
              "std    2.876566e+09  3.671272e+05      0.930062      0.770163    918.440897   \n",
              "min    1.000102e+06  7.500000e+04      0.000000      0.000000    290.000000   \n",
              "25%    2.123049e+09  3.219500e+05      3.000000      1.750000   1427.000000   \n",
              "50%    3.904930e+09  4.500000e+05      3.000000      2.250000   1910.000000   \n",
              "75%    7.308900e+09  6.450000e+05      4.000000      2.500000   2550.000000   \n",
              "max    9.900000e+09  7.700000e+06     33.000000      8.000000  13540.000000   \n",
              "\n",
              "           sqft_lot        floors    waterfront          view     condition  \\\n",
              "count  2.161300e+04  21613.000000  21613.000000  21613.000000  21613.000000   \n",
              "mean   1.510697e+04      1.494309      0.007542      0.234303      3.409430   \n",
              "std    4.142051e+04      0.539989      0.086517      0.766318      0.650743   \n",
              "min    5.200000e+02      1.000000      0.000000      0.000000      1.000000   \n",
              "25%    5.040000e+03      1.000000      0.000000      0.000000      3.000000   \n",
              "50%    7.618000e+03      1.500000      0.000000      0.000000      3.000000   \n",
              "75%    1.068800e+04      2.000000      0.000000      0.000000      4.000000   \n",
              "max    1.651359e+06      3.500000      1.000000      4.000000      5.000000   \n",
              "\n",
              "              grade    sqft_above  sqft_basement      yr_built  yr_renovated  \\\n",
              "count  21613.000000  21613.000000   21613.000000  21613.000000  21613.000000   \n",
              "mean       7.656873   1788.390691     291.509045   1971.005136     84.402258   \n",
              "std        1.175459    828.090978     442.575043     29.373411    401.679240   \n",
              "min        1.000000    290.000000       0.000000   1900.000000      0.000000   \n",
              "25%        7.000000   1190.000000       0.000000   1951.000000      0.000000   \n",
              "50%        7.000000   1560.000000       0.000000   1975.000000      0.000000   \n",
              "75%        8.000000   2210.000000     560.000000   1997.000000      0.000000   \n",
              "max       13.000000   9410.000000    4820.000000   2015.000000   2015.000000   \n",
              "\n",
              "            zipcode           lat          long  sqft_living15     sqft_lot15  \n",
              "count  21613.000000  21613.000000  21613.000000   21613.000000   21613.000000  \n",
              "mean   98077.939805     47.560053   -122.213896    1986.552492   12768.455652  \n",
              "std       53.505026      0.138564      0.140828     685.391304   27304.179631  \n",
              "min    98001.000000     47.155900   -122.519000     399.000000     651.000000  \n",
              "25%    98033.000000     47.471000   -122.328000    1490.000000    5100.000000  \n",
              "50%    98065.000000     47.571800   -122.230000    1840.000000    7620.000000  \n",
              "75%    98118.000000     47.678000   -122.125000    2360.000000   10083.000000  \n",
              "max    98199.000000     47.777600   -121.315000    6210.000000  871200.000000  "
            ],
            "text/html": [
              "\n",
              "  <div id=\"df-465b8021-b034-4bca-8f2f-549d8700bb50\">\n",
              "    <div class=\"colab-df-container\">\n",
              "      <div>\n",
              "<style scoped>\n",
              "    .dataframe tbody tr th:only-of-type {\n",
              "        vertical-align: middle;\n",
              "    }\n",
              "\n",
              "    .dataframe tbody tr th {\n",
              "        vertical-align: top;\n",
              "    }\n",
              "\n",
              "    .dataframe thead th {\n",
              "        text-align: right;\n",
              "    }\n",
              "</style>\n",
              "<table border=\"1\" class=\"dataframe\">\n",
              "  <thead>\n",
              "    <tr style=\"text-align: right;\">\n",
              "      <th></th>\n",
              "      <th>id</th>\n",
              "      <th>price</th>\n",
              "      <th>bedrooms</th>\n",
              "      <th>bathrooms</th>\n",
              "      <th>sqft_living</th>\n",
              "      <th>sqft_lot</th>\n",
              "      <th>floors</th>\n",
              "      <th>waterfront</th>\n",
              "      <th>view</th>\n",
              "      <th>condition</th>\n",
              "      <th>grade</th>\n",
              "      <th>sqft_above</th>\n",
              "      <th>sqft_basement</th>\n",
              "      <th>yr_built</th>\n",
              "      <th>yr_renovated</th>\n",
              "      <th>zipcode</th>\n",
              "      <th>lat</th>\n",
              "      <th>long</th>\n",
              "      <th>sqft_living15</th>\n",
              "      <th>sqft_lot15</th>\n",
              "    </tr>\n",
              "  </thead>\n",
              "  <tbody>\n",
              "    <tr>\n",
              "      <th>count</th>\n",
              "      <td>2.161300e+04</td>\n",
              "      <td>2.161300e+04</td>\n",
              "      <td>21613.000000</td>\n",
              "      <td>21613.000000</td>\n",
              "      <td>21613.000000</td>\n",
              "      <td>2.161300e+04</td>\n",
              "      <td>21613.000000</td>\n",
              "      <td>21613.000000</td>\n",
              "      <td>21613.000000</td>\n",
              "      <td>21613.000000</td>\n",
              "      <td>21613.000000</td>\n",
              "      <td>21613.000000</td>\n",
              "      <td>21613.000000</td>\n",
              "      <td>21613.000000</td>\n",
              "      <td>21613.000000</td>\n",
              "      <td>21613.000000</td>\n",
              "      <td>21613.000000</td>\n",
              "      <td>21613.000000</td>\n",
              "      <td>21613.000000</td>\n",
              "      <td>21613.000000</td>\n",
              "    </tr>\n",
              "    <tr>\n",
              "      <th>mean</th>\n",
              "      <td>4.580302e+09</td>\n",
              "      <td>5.400881e+05</td>\n",
              "      <td>3.370842</td>\n",
              "      <td>2.114757</td>\n",
              "      <td>2079.899736</td>\n",
              "      <td>1.510697e+04</td>\n",
              "      <td>1.494309</td>\n",
              "      <td>0.007542</td>\n",
              "      <td>0.234303</td>\n",
              "      <td>3.409430</td>\n",
              "      <td>7.656873</td>\n",
              "      <td>1788.390691</td>\n",
              "      <td>291.509045</td>\n",
              "      <td>1971.005136</td>\n",
              "      <td>84.402258</td>\n",
              "      <td>98077.939805</td>\n",
              "      <td>47.560053</td>\n",
              "      <td>-122.213896</td>\n",
              "      <td>1986.552492</td>\n",
              "      <td>12768.455652</td>\n",
              "    </tr>\n",
              "    <tr>\n",
              "      <th>std</th>\n",
              "      <td>2.876566e+09</td>\n",
              "      <td>3.671272e+05</td>\n",
              "      <td>0.930062</td>\n",
              "      <td>0.770163</td>\n",
              "      <td>918.440897</td>\n",
              "      <td>4.142051e+04</td>\n",
              "      <td>0.539989</td>\n",
              "      <td>0.086517</td>\n",
              "      <td>0.766318</td>\n",
              "      <td>0.650743</td>\n",
              "      <td>1.175459</td>\n",
              "      <td>828.090978</td>\n",
              "      <td>442.575043</td>\n",
              "      <td>29.373411</td>\n",
              "      <td>401.679240</td>\n",
              "      <td>53.505026</td>\n",
              "      <td>0.138564</td>\n",
              "      <td>0.140828</td>\n",
              "      <td>685.391304</td>\n",
              "      <td>27304.179631</td>\n",
              "    </tr>\n",
              "    <tr>\n",
              "      <th>min</th>\n",
              "      <td>1.000102e+06</td>\n",
              "      <td>7.500000e+04</td>\n",
              "      <td>0.000000</td>\n",
              "      <td>0.000000</td>\n",
              "      <td>290.000000</td>\n",
              "      <td>5.200000e+02</td>\n",
              "      <td>1.000000</td>\n",
              "      <td>0.000000</td>\n",
              "      <td>0.000000</td>\n",
              "      <td>1.000000</td>\n",
              "      <td>1.000000</td>\n",
              "      <td>290.000000</td>\n",
              "      <td>0.000000</td>\n",
              "      <td>1900.000000</td>\n",
              "      <td>0.000000</td>\n",
              "      <td>98001.000000</td>\n",
              "      <td>47.155900</td>\n",
              "      <td>-122.519000</td>\n",
              "      <td>399.000000</td>\n",
              "      <td>651.000000</td>\n",
              "    </tr>\n",
              "    <tr>\n",
              "      <th>25%</th>\n",
              "      <td>2.123049e+09</td>\n",
              "      <td>3.219500e+05</td>\n",
              "      <td>3.000000</td>\n",
              "      <td>1.750000</td>\n",
              "      <td>1427.000000</td>\n",
              "      <td>5.040000e+03</td>\n",
              "      <td>1.000000</td>\n",
              "      <td>0.000000</td>\n",
              "      <td>0.000000</td>\n",
              "      <td>3.000000</td>\n",
              "      <td>7.000000</td>\n",
              "      <td>1190.000000</td>\n",
              "      <td>0.000000</td>\n",
              "      <td>1951.000000</td>\n",
              "      <td>0.000000</td>\n",
              "      <td>98033.000000</td>\n",
              "      <td>47.471000</td>\n",
              "      <td>-122.328000</td>\n",
              "      <td>1490.000000</td>\n",
              "      <td>5100.000000</td>\n",
              "    </tr>\n",
              "    <tr>\n",
              "      <th>50%</th>\n",
              "      <td>3.904930e+09</td>\n",
              "      <td>4.500000e+05</td>\n",
              "      <td>3.000000</td>\n",
              "      <td>2.250000</td>\n",
              "      <td>1910.000000</td>\n",
              "      <td>7.618000e+03</td>\n",
              "      <td>1.500000</td>\n",
              "      <td>0.000000</td>\n",
              "      <td>0.000000</td>\n",
              "      <td>3.000000</td>\n",
              "      <td>7.000000</td>\n",
              "      <td>1560.000000</td>\n",
              "      <td>0.000000</td>\n",
              "      <td>1975.000000</td>\n",
              "      <td>0.000000</td>\n",
              "      <td>98065.000000</td>\n",
              "      <td>47.571800</td>\n",
              "      <td>-122.230000</td>\n",
              "      <td>1840.000000</td>\n",
              "      <td>7620.000000</td>\n",
              "    </tr>\n",
              "    <tr>\n",
              "      <th>75%</th>\n",
              "      <td>7.308900e+09</td>\n",
              "      <td>6.450000e+05</td>\n",
              "      <td>4.000000</td>\n",
              "      <td>2.500000</td>\n",
              "      <td>2550.000000</td>\n",
              "      <td>1.068800e+04</td>\n",
              "      <td>2.000000</td>\n",
              "      <td>0.000000</td>\n",
              "      <td>0.000000</td>\n",
              "      <td>4.000000</td>\n",
              "      <td>8.000000</td>\n",
              "      <td>2210.000000</td>\n",
              "      <td>560.000000</td>\n",
              "      <td>1997.000000</td>\n",
              "      <td>0.000000</td>\n",
              "      <td>98118.000000</td>\n",
              "      <td>47.678000</td>\n",
              "      <td>-122.125000</td>\n",
              "      <td>2360.000000</td>\n",
              "      <td>10083.000000</td>\n",
              "    </tr>\n",
              "    <tr>\n",
              "      <th>max</th>\n",
              "      <td>9.900000e+09</td>\n",
              "      <td>7.700000e+06</td>\n",
              "      <td>33.000000</td>\n",
              "      <td>8.000000</td>\n",
              "      <td>13540.000000</td>\n",
              "      <td>1.651359e+06</td>\n",
              "      <td>3.500000</td>\n",
              "      <td>1.000000</td>\n",
              "      <td>4.000000</td>\n",
              "      <td>5.000000</td>\n",
              "      <td>13.000000</td>\n",
              "      <td>9410.000000</td>\n",
              "      <td>4820.000000</td>\n",
              "      <td>2015.000000</td>\n",
              "      <td>2015.000000</td>\n",
              "      <td>98199.000000</td>\n",
              "      <td>47.777600</td>\n",
              "      <td>-121.315000</td>\n",
              "      <td>6210.000000</td>\n",
              "      <td>871200.000000</td>\n",
              "    </tr>\n",
              "  </tbody>\n",
              "</table>\n",
              "</div>\n",
              "      <button class=\"colab-df-convert\" onclick=\"convertToInteractive('df-465b8021-b034-4bca-8f2f-549d8700bb50')\"\n",
              "              title=\"Convert this dataframe to an interactive table.\"\n",
              "              style=\"display:none;\">\n",
              "        \n",
              "  <svg xmlns=\"http://www.w3.org/2000/svg\" height=\"24px\"viewBox=\"0 0 24 24\"\n",
              "       width=\"24px\">\n",
              "    <path d=\"M0 0h24v24H0V0z\" fill=\"none\"/>\n",
              "    <path d=\"M18.56 5.44l.94 2.06.94-2.06 2.06-.94-2.06-.94-.94-2.06-.94 2.06-2.06.94zm-11 1L8.5 8.5l.94-2.06 2.06-.94-2.06-.94L8.5 2.5l-.94 2.06-2.06.94zm10 10l.94 2.06.94-2.06 2.06-.94-2.06-.94-.94-2.06-.94 2.06-2.06.94z\"/><path d=\"M17.41 7.96l-1.37-1.37c-.4-.4-.92-.59-1.43-.59-.52 0-1.04.2-1.43.59L10.3 9.45l-7.72 7.72c-.78.78-.78 2.05 0 2.83L4 21.41c.39.39.9.59 1.41.59.51 0 1.02-.2 1.41-.59l7.78-7.78 2.81-2.81c.8-.78.8-2.07 0-2.86zM5.41 20L4 18.59l7.72-7.72 1.47 1.35L5.41 20z\"/>\n",
              "  </svg>\n",
              "      </button>\n",
              "      \n",
              "  <style>\n",
              "    .colab-df-container {\n",
              "      display:flex;\n",
              "      flex-wrap:wrap;\n",
              "      gap: 12px;\n",
              "    }\n",
              "\n",
              "    .colab-df-convert {\n",
              "      background-color: #E8F0FE;\n",
              "      border: none;\n",
              "      border-radius: 50%;\n",
              "      cursor: pointer;\n",
              "      display: none;\n",
              "      fill: #1967D2;\n",
              "      height: 32px;\n",
              "      padding: 0 0 0 0;\n",
              "      width: 32px;\n",
              "    }\n",
              "\n",
              "    .colab-df-convert:hover {\n",
              "      background-color: #E2EBFA;\n",
              "      box-shadow: 0px 1px 2px rgba(60, 64, 67, 0.3), 0px 1px 3px 1px rgba(60, 64, 67, 0.15);\n",
              "      fill: #174EA6;\n",
              "    }\n",
              "\n",
              "    [theme=dark] .colab-df-convert {\n",
              "      background-color: #3B4455;\n",
              "      fill: #D2E3FC;\n",
              "    }\n",
              "\n",
              "    [theme=dark] .colab-df-convert:hover {\n",
              "      background-color: #434B5C;\n",
              "      box-shadow: 0px 1px 3px 1px rgba(0, 0, 0, 0.15);\n",
              "      filter: drop-shadow(0px 1px 2px rgba(0, 0, 0, 0.3));\n",
              "      fill: #FFFFFF;\n",
              "    }\n",
              "  </style>\n",
              "\n",
              "      <script>\n",
              "        const buttonEl =\n",
              "          document.querySelector('#df-465b8021-b034-4bca-8f2f-549d8700bb50 button.colab-df-convert');\n",
              "        buttonEl.style.display =\n",
              "          google.colab.kernel.accessAllowed ? 'block' : 'none';\n",
              "\n",
              "        async function convertToInteractive(key) {\n",
              "          const element = document.querySelector('#df-465b8021-b034-4bca-8f2f-549d8700bb50');\n",
              "          const dataTable =\n",
              "            await google.colab.kernel.invokeFunction('convertToInteractive',\n",
              "                                                     [key], {});\n",
              "          if (!dataTable) return;\n",
              "\n",
              "          const docLinkHtml = 'Like what you see? Visit the ' +\n",
              "            '<a target=\"_blank\" href=https://colab.research.google.com/notebooks/data_table.ipynb>data table notebook</a>'\n",
              "            + ' to learn more about interactive tables.';\n",
              "          element.innerHTML = '';\n",
              "          dataTable['output_type'] = 'display_data';\n",
              "          await google.colab.output.renderOutput(dataTable, element);\n",
              "          const docLink = document.createElement('div');\n",
              "          docLink.innerHTML = docLinkHtml;\n",
              "          element.appendChild(docLink);\n",
              "        }\n",
              "      </script>\n",
              "    </div>\n",
              "  </div>\n",
              "  "
            ]
          },
          "metadata": {},
          "execution_count": 39
        }
      ]
    },
    {
      "cell_type": "code",
      "source": [
        "df.drop('id', axis = 1, inplace = True)\n",
        "df.drop('date', axis = 1, inplace = True)\n",
        "df.drop('zipcode', axis = 1, inplace = True)\n",
        "df.drop('lat', axis = 1, inplace = True)\n",
        "df.drop('long', axis = 1, inplace = True)"
      ],
      "metadata": {
        "id": "Z4wjZvZ7t23l"
      },
      "execution_count": 40,
      "outputs": []
    },
    {
      "cell_type": "code",
      "source": [
        "plt.figure(figsize=(12,8)) \n",
        "sns.heatmap(df.corr(), annot=True, cmap='Dark2_r', linewidths = 2)\n",
        "plt.show()"
      ],
      "metadata": {
        "colab": {
          "base_uri": "https://localhost:8080/",
          "height": 542
        },
        "id": "CgV6tv4kt939",
        "outputId": "17dcda6c-f285-4cfa-85c1-d6704ccc1259"
      },
      "execution_count": 41,
      "outputs": [
        {
          "output_type": "display_data",
          "data": {
            "text/plain": [
              "<Figure size 864x576 with 2 Axes>"
            ],
            "image/png": "[encoded data removed]"
          },
          "metadata": {
            "needs_background": "light"
          }
        }
      ]
    },
    {
      "cell_type": "code",
      "source": [
        "columns = df.columns.drop('price')\n",
        "\n",
        "features = columns\n",
        "label = ['price']\n",
        "\n",
        "X = df[features]\n",
        "y = df[label]"
      ],
      "metadata": {
        "id": "k5cLZG0BuB2_"
      },
      "execution_count": 42,
      "outputs": []
    },
    {
      "cell_type": "code",
      "source": [
        "X_train, X_test, y_train, y_test = train_test_split(X, y, test_size = 0.1, random_state = 101)\n",
        "\n",
        "print(f'Numero total de registros en la bdd: {len(X)}')\n",
        "print(\"*****\"*10)\n",
        "print(f'Numero total de registros en el training set: {len(X_train)}')\n",
        "print(f'Tamaño de X_train: {X_train.shape}')\n",
        "print(\"*****\"*10)\n",
        "print(f'Mumero total de registros en el test dataset: {len(X_test)}')\n",
        "print(f'Tamaño del X_test: {X_test.shape}')"
      ],
      "metadata": {
        "colab": {
          "base_uri": "https://localhost:8080/"
        },
        "id": "MFjY-gCduEai",
        "outputId": "8fe9894f-56f8-4bd4-a6d7-f9e7a82c1e1c"
      },
      "execution_count": 45,
      "outputs": [
        {
          "output_type": "stream",
          "name": "stdout",
          "text": [
            "Numero total de registros en la bdd: 21613\n",
            "**************************************************\n",
            "Numero total de registros en el training set: 19451\n",
            "Tamaño de X_train: (19451, 15)\n",
            "**************************************************\n",
            "Mumero total de registros en el test dataset: 2162\n",
            "Tamaño del X_test: (2162, 15)\n"
          ]
        }
      ]
    },
    {
      "cell_type": "code",
      "source": [
        "#Regresion Multiple Lineal"
      ],
      "metadata": {
        "id": "4NokbO7Nvqcd"
      },
      "execution_count": 49,
      "outputs": []
    },
    {
      "cell_type": "code",
      "source": [
        "linear_reg = LinearRegression(fit_intercept=True)\n",
        "linear_reg.fit(X_train, y_train)\n",
        "linear_reg.coef_, linear_reg.intercept_"
      ],
      "metadata": {
        "colab": {
          "base_uri": "https://localhost:8080/"
        },
        "id": "apkHB9d_wbGY",
        "outputId": "c1a3689f-213e-40f2-a6f9-319200737d0f"
      },
      "execution_count": 48,
      "outputs": [
        {
          "output_type": "execute_result",
          "data": {
            "text/plain": [
              "(array([[-3.82008048e+04,  4.14661380e+04,  1.07992584e+02,\n",
              "          1.71356997e-02,  3.16916913e+04,  5.52691023e+05,\n",
              "          4.12493228e+04,  2.12221443e+04,  1.19493216e+05,\n",
              "          4.77750271e+01,  6.02175565e+01, -3.55090216e+03,\n",
              "          1.32602215e+01,  2.90059284e+01, -5.48132603e-01]]),\n",
              " array([6151359.2627409]))"
            ]
          },
          "metadata": {},
          "execution_count": 48
        }
      ]
    },
    {
      "cell_type": "markdown",
      "source": [
        "Ecuación:\n",
        "\n",
        "$\\hat{y} = -3.8200X1 + 4.1466X2 + 1.0799X3 + 1.7135X4 + 3.1691X5 + 5.5269X6 + 4.1249X7 + 2.1222X8 + 1.1949X9 + 4.7775X10 + 6.0217X11 - 3.5509X12 + 1.3260X13 + 2.9005X14 - 5.4813X15 + 6151359.2627$"
      ],
      "metadata": {
        "id": "qvnoBXF1xG6l"
      }
    },
    {
      "cell_type": "code",
      "source": [
        "#Lista de errores para su posterior graficacion\n",
        "Error_List_Ej2 = list()"
      ],
      "metadata": {
        "id": "WcwpsaEFyefY"
      },
      "execution_count": 50,
      "outputs": []
    },
    {
      "cell_type": "code",
      "source": [
        "#MAE, R^2 Error, R^2 Score\n",
        "yhat = linear_reg.predict(X)\n",
        "MAE = metrics.mean_absolute_error(y, yhat)\n",
        "RMSE = np.sqrt(metrics.mean_squared_error(y, yhat))\n",
        "R2 =  r2_score(y, yhat)\n",
        "print('Mean Absolute Error (MAE):', MAE)\n",
        "print('Root Mean Squared Error:', RMSE )\n",
        "print('R^2 Score', R2)\n",
        "\n",
        "Error_List_Ej2.append({\"Regresiones\": \"Regresion lineal\", \"MAE\":MAE, \"RMSE\":RMSE, \"R2\":R2})"
      ],
      "metadata": {
        "colab": {
          "base_uri": "https://localhost:8080/"
        },
        "id": "XCHcPPRvyhsC",
        "outputId": "a7345e59-573c-4a03-dbcd-543a26017e60"
      },
      "execution_count": 52,
      "outputs": [
        {
          "output_type": "stream",
          "name": "stdout",
          "text": [
            "Mean Absolute Error (MAE): 139090.35238662068\n",
            "Root Mean Squared Error: 216092.052373392\n",
            "R^2 Score 0.6535308525095571\n"
          ]
        }
      ]
    },
    {
      "cell_type": "code",
      "source": [
        "#Regresion Multiple Polinomial"
      ],
      "metadata": {
        "id": "UrRMZyZT0TlQ"
      },
      "execution_count": 53,
      "outputs": []
    },
    {
      "cell_type": "code",
      "source": [
        "Polynomial = PolynomialFeatures(degree=2, include_bias=False)\n",
        "Polynomial_features = Polynomial.fit_transform(X)\n",
        "Polynomial_reg_model = LinearRegression()\n",
        "Polynomial_reg_model.fit(Polynomial_features, y)\n",
        "Polynomial_reg_model.coef_, Polynomial_reg_model.intercept_"
      ],
      "metadata": {
        "colab": {
          "base_uri": "https://localhost:8080/"
        },
        "id": "798lsacd0dSN",
        "outputId": "3f812b89-313c-4c1c-f804-d2d4d9e6e376"
      },
      "execution_count": 54,
      "outputs": [
        {
          "output_type": "execute_result",
          "data": {
            "text/plain": [
              "(array([[ 8.94115427e+05, -8.98409208e+05, -5.17240938e+02,\n",
              "         -3.55977014e+01, -2.15011492e+06, -3.98148622e+06,\n",
              "         -1.88560460e+05,  4.95587204e+05,  1.05263940e+06,\n",
              "         -7.04027889e+01, -3.80996221e+02, -8.61498107e+04,\n",
              "         -3.22193821e+03,  3.84970084e+03, -2.83458052e+01,\n",
              "          8.37043328e+02,  5.72452749e+03, -1.45880059e+01,\n",
              "          7.00680239e-03,  1.14464912e+04,  9.30617284e+03,\n",
              "         -2.14902027e+03, -3.10398878e+03, -2.74924724e+03,\n",
              "         -6.98093498e-01, -9.98026442e+00, -4.59786576e+02,\n",
              "         -9.38813407e+00,  1.64884247e+01,  2.20585620e-01,\n",
              "         -8.55956132e+03,  1.80029508e+01, -3.29146641e-01,\n",
              "         -2.76018345e+04,  1.48236315e+04,  8.30182511e+03,\n",
              "         -1.43873699e+03,  1.92568085e+04,  1.84120354e+01,\n",
              "         -8.34279772e-01,  4.14321761e+02, -2.09112139e+01,\n",
              "         -1.93438257e+01,  1.14904964e-01,  6.76581280e+00,\n",
              "         -3.96969272e+00, -3.29286803e+00,  1.60000127e+02,\n",
              "         -1.07829321e+01,  8.10322898e+00,  2.12963798e+01,\n",
              "         -8.85266720e+00, -5.05709549e+00,  1.33738618e+00,\n",
              "          1.49320729e-01, -3.47770649e+00, -8.96101584e+00,\n",
              "          4.68455255e-07,  4.48290766e-01, -9.55771446e-02,\n",
              "         -1.29964606e-01,  7.08470619e-02,  1.98076083e-01,\n",
              "          3.96897258e+00,  3.96939397e+00,  1.76760454e-02,\n",
              "         -9.14879201e-05,  2.01915391e-04,  9.18284059e-07,\n",
              "          2.35803598e+04, -8.49894172e+04,  5.89261633e+03,\n",
              "          2.65540404e+04, -1.67551580e+02, -1.15370299e+01,\n",
              "          8.24140380e+00,  1.05186621e+03,  3.88259967e+00,\n",
              "         -2.44777718e+01, -4.85366555e-01, -3.98148282e+06,\n",
              "         -1.42342278e+02,  2.14846335e+04, -1.52042005e+05,\n",
              "          1.50087890e+02,  9.91223595e+00,  4.31937453e+03,\n",
              "         -4.72272375e+01,  1.95803910e+02, -3.26418335e-01,\n",
              "          7.70597202e+03,  4.07921182e+03,  1.44476751e+04,\n",
              "         -5.99658658e+00, -4.78588055e+00,  3.72029848e+01,\n",
              "         -9.13908905e+00,  3.63290130e+00, -1.19770073e-02,\n",
              "          1.22119952e+03, -6.66866546e+03, -2.34786377e+00,\n",
              "          1.04541442e+01, -2.84842781e+02, -1.75134456e+01,\n",
              "          5.29909044e+01, -2.45332350e-01,  7.03245167e+03,\n",
              "          6.44013448e+00,  1.48799012e+01, -5.48162940e+02,\n",
              "         -6.14653160e+00, -2.16850137e+01, -5.37252514e-01,\n",
              "          2.09723016e+00,  4.05893817e-01, -1.11925718e+00,\n",
              "         -1.16070913e-01,  3.47386401e+00,  8.96119072e+00,\n",
              "         -1.77765290e+00, -9.62767812e-01, -1.05178470e-01,\n",
              "          3.47940886e+00,  8.96041132e+00,  2.30550921e+01,\n",
              "          4.86756636e-01, -1.98496263e+00,  1.60096573e-02,\n",
              "          1.15799967e+00,  5.04559910e-02,  1.31484325e-04,\n",
              "          3.23696260e-02,  1.80375064e-05,  2.21631490e-06]]),\n",
              " array([80681708.64326628]))"
            ]
          },
          "metadata": {},
          "execution_count": 54
        }
      ]
    },
    {
      "cell_type": "code",
      "source": [
        "#MAE, R^2 Error, R^2 Score\n",
        "yhat = Polynomial_reg_model.predict(Polynomial_features)\n",
        "MAE = metrics.mean_absolute_error(y, yhat)\n",
        "RMSE = np.sqrt(metrics.mean_squared_error(y, yhat))\n",
        "R2 =  r2_score(y, yhat)\n",
        "print('Mean Absolute Error (MAE):', MAE)\n",
        "print('Root Mean Squared Error:', RMSE )\n",
        "print('R^2 Score', R2)\n",
        "\n",
        "Error_List_Ej2.append({\"Regresiones\": \"Regresion Polinomial\", \"MAE\":MAE, \"RMSE\":RMSE, \"R2\":R2})"
      ],
      "metadata": {
        "colab": {
          "base_uri": "https://localhost:8080/"
        },
        "id": "lReO7KVf03y8",
        "outputId": "75446aa8-68ab-4f3a-d319-064f598859b5"
      },
      "execution_count": 55,
      "outputs": [
        {
          "output_type": "stream",
          "name": "stdout",
          "text": [
            "Mean Absolute Error (MAE): 122947.10324712306\n",
            "Root Mean Squared Error: 183003.23258819562\n",
            "R^2 Score 0.751512525995311\n"
          ]
        }
      ]
    },
    {
      "cell_type": "code",
      "source": [
        "#Regresion Ridge"
      ],
      "metadata": {
        "id": "7Wt7i9CW1Mla"
      },
      "execution_count": 56,
      "outputs": []
    },
    {
      "cell_type": "code",
      "source": [
        "Ridge_regr = Ridge(fit_intercept=True)\n",
        "Ridge_regr.fit(X_train, y_train)\n",
        "y_new = Ridge_regr.predict(X_test)\n",
        "Ridge_regr.coef_, Ridge_regr.intercept_"
      ],
      "metadata": {
        "colab": {
          "base_uri": "https://localhost:8080/"
        },
        "id": "jYkpfdVg1SJm",
        "outputId": "7f12b21b-b64e-4c37-dd58-8587a202550d"
      },
      "execution_count": 58,
      "outputs": [
        {
          "output_type": "execute_result",
          "data": {
            "text/plain": [
              "(array([[-3.82192265e+04,  4.14509656e+04,  1.08013951e+02,\n",
              "          1.69318239e-02,  3.16891574e+04,  5.48258333e+05,\n",
              "          4.14559235e+04,  2.12264347e+04,  1.19470568e+05,\n",
              "          4.78066878e+01,  6.02065605e+01, -3.55050129e+03,\n",
              "          1.33171890e+01,  2.89851987e+01, -5.47998512e-01]]),\n",
              " array([6150751.3836867]))"
            ]
          },
          "metadata": {},
          "execution_count": 58
        }
      ]
    },
    {
      "cell_type": "markdown",
      "source": [
        "Ecuación:\n",
        "\n",
        "$\\hat{y} = -3.8219X1 + 4.1450X2 + 1.0801X3 + 1.6931X4 + 3.1689X5 + 5.4825X6 + 4.1455X7 + 2.1226X8 + 1.1947X9 + 4.7806X10 + 6.0206X11 - 3.5505X12 + 1.3317X13 + 2.8985X14 - 5.4799X15 + 6150751.3836$"
      ],
      "metadata": {
        "id": "3FLB0mVp1dji"
      }
    },
    {
      "cell_type": "code",
      "source": [
        "#MAE, R^2 Error, R^2 Score\n",
        "yhat = Ridge_regr.predict(X)\n",
        "MAE = metrics.mean_absolute_error(y, yhat)\n",
        "RMSE = np.sqrt(metrics.mean_squared_error(y, yhat))\n",
        "R2 =  r2_score(y, yhat)\n",
        "print('Mean Absolute Error (MAE):', MAE)\n",
        "print('Root Mean Squared Error:', RMSE )\n",
        "print('R^2 Score', R2)\n",
        "\n",
        "Error_List_Ej2.append({\"Regresiones\": \"Reg. Ridge\", \"MAE\":MAE, \"RMSE\":RMSE, \"R2\":R2})"
      ],
      "metadata": {
        "colab": {
          "base_uri": "https://localhost:8080/"
        },
        "id": "b-IGaYNz1NY5",
        "outputId": "17b89283-8dd8-4888-b435-fb5009a76c83"
      },
      "execution_count": 59,
      "outputs": [
        {
          "output_type": "stream",
          "name": "stdout",
          "text": [
            "Mean Absolute Error (MAE): 139091.35944656763\n",
            "Root Mean Squared Error: 216095.7373511175\n",
            "R^2 Score 0.6535190358604672\n"
          ]
        }
      ]
    },
    {
      "cell_type": "code",
      "source": [
        "#Regresion Lasso"
      ],
      "metadata": {
        "id": "vlw5bkvi2Jgi"
      },
      "execution_count": 60,
      "outputs": []
    },
    {
      "cell_type": "code",
      "source": [
        "Lasso_regr = Lasso(fit_intercept=True)\n",
        "Lasso_regr.fit(X_train, y_train)\n",
        "y_new = Lasso_regr.predict(X_test)\n",
        "Lasso_regr.coef_, Lasso_regr.intercept_"
      ],
      "metadata": {
        "colab": {
          "base_uri": "https://localhost:8080/"
        },
        "id": "Aqmm_xLV2KSk",
        "outputId": "bdb10f95-9ad7-43ed-8f91-0ad6dd2aa12d"
      },
      "execution_count": 61,
      "outputs": [
        {
          "output_type": "stream",
          "name": "stderr",
          "text": [
            "/usr/local/lib/python3.7/dist-packages/sklearn/linear_model/_coordinate_descent.py:648: ConvergenceWarning: Objective did not converge. You might want to increase the number of iterations, check the scale of the features or consider increasing regularisation. Duality gap: 4.053e+14, tolerance: 2.572e+11\n",
            "  coef_, l1_reg, l2_reg, X, y, max_iter, tol, rng, random, positive\n"
          ]
        },
        {
          "output_type": "execute_result",
          "data": {
            "text/plain": [
              "(array([-3.81995345e+04,  4.14618568e+04,  2.93480482e+02,  1.71281822e-02,\n",
              "         3.16871411e+04,  5.52541108e+05,  4.12549654e+04,  2.12193902e+04,\n",
              "         1.19491837e+05, -1.37708200e+02, -1.25268449e+02, -3.55085005e+03,\n",
              "         1.32628460e+01,  2.90053298e+01, -5.48136075e-01]),\n",
              " array([6151280.11390041]))"
            ]
          },
          "metadata": {},
          "execution_count": 61
        }
      ]
    },
    {
      "cell_type": "markdown",
      "source": [
        "Ecuación:\n",
        "\n",
        "$\\hat{y} = -3.8199X1 + 4.1461X2 + 2.9348X3 + 1.7128X4 + 3.1687X5 + 5.5254X6 + 4.1254X7 + 2.1219X8 + 1.1949X9 - 1.3770X10 - 1.2526X11 - 3.5585X12 + 1.3262X13 + 2.9005X14 - 5.4813X15 + 6151280.1139$"
      ],
      "metadata": {
        "id": "hwJbiiFp2TFL"
      }
    },
    {
      "cell_type": "code",
      "source": [
        "#MAE, R^2 Error, R^2 Score\n",
        "yhat = Lasso_regr.predict(X)\n",
        "MAE = metrics.mean_absolute_error(y, yhat)\n",
        "RMSE = np.sqrt(metrics.mean_squared_error(y, yhat))\n",
        "R2 =  r2_score(y, yhat)\n",
        "print('Mean Absolute Error (MAE):', MAE)\n",
        "print('Root Mean Squared Error:', RMSE )\n",
        "print('R^2 Score', R2)\n",
        "\n",
        "Error_List_Ej2.append({\"Regresiones\": \"Reg. Lasso\", \"MAE\":MAE, \"RMSE\":RMSE, \"R2\":R2})"
      ],
      "metadata": {
        "colab": {
          "base_uri": "https://localhost:8080/"
        },
        "id": "t3ujfShx22E8",
        "outputId": "9d4a4f3e-629d-4f90-c6e5-fbb90191d6a6"
      },
      "execution_count": 62,
      "outputs": [
        {
          "output_type": "stream",
          "name": "stdout",
          "text": [
            "Mean Absolute Error (MAE): 139090.4100648079\n",
            "Root Mean Squared Error: 216092.17734606357\n",
            "R^2 Score 0.6535304517619404\n"
          ]
        }
      ]
    },
    {
      "cell_type": "code",
      "source": [
        "#Graficar MAE\n",
        "dfErrList = pd.DataFrame(Error_List_Ej2)\n",
        "\n",
        "sns.barplot(data = dfErrList, x = 'Regresiones', y = 'MAE',  palette = 'Blues', edgecolor = 'w').set(title = \"MAE Regresiones\")\n",
        "plt.xlabel('Regresiones', fontsize=12)\n",
        "plt.tick_params(axis='both', which='major', labelsize=12, rotation=90)"
      ],
      "metadata": {
        "colab": {
          "base_uri": "https://localhost:8080/",
          "height": 413
        },
        "id": "Hjc4ajSf3DKH",
        "outputId": "3f16867c-11ab-4855-c9e6-433d66ade93b"
      },
      "execution_count": 64,
      "outputs": [
        {
          "output_type": "display_data",
          "data": {
            "text/plain": [
              "<Figure size 432x288 with 1 Axes>"
            ],
            "image/png": "[encoded data removed]"
          },
          "metadata": {
            "needs_background": "light"
          }
        }
      ]
    },
    {
      "cell_type": "code",
      "source": [
        "#Graficar R^2\n",
        "sns.barplot(data = dfErrList, x='Regresiones', y='R2', palette = 'Blues', edgecolor = 'w').set(title = \"R^2 Regresiones\")\n",
        "plt.xlabel('Regresiones', fontsize=12)\n",
        "plt.tick_params(axis='both', which='major', labelsize=12,   rotation=90)"
      ],
      "metadata": {
        "colab": {
          "base_uri": "https://localhost:8080/",
          "height": 413
        },
        "id": "6y6h0vAb3brV",
        "outputId": "c301c1be-5887-4aed-bc34-6bee6cf9e253"
      },
      "execution_count": 65,
      "outputs": [
        {
          "output_type": "display_data",
          "data": {
            "text/plain": [
              "<Figure size 432x288 with 1 Axes>"
            ],
            "image/png": "[encoded data removed]"
          },
          "metadata": {
            "needs_background": "light"
          }
        }
      ]
    },
    {
      "cell_type": "markdown",
      "source": [
        "**Explica tus resultados, que método se aproxima mejor, ¿por qué?, ¿qué porcentajes de entrenamiento y evaluación usaste? ¿Que error tienes?, ¿es bueno?, ¿Cómo lo sabes?**\n",
        "\n",
        "El metodo que se aproxima mejor es la Regresion Polinomial al tener R^2 de 0.75. \n",
        "\n",
        "Se utilizo un porcentaje de entrenamiento de 90% y de evaluacion de 10%."
      ],
      "metadata": {
        "id": "GUxzj0om3lRM"
      }
    }
  ]
}