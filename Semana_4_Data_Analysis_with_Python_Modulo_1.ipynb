{
  "nbformat": 4,
  "nbformat_minor": 0,
  "metadata": {
    "colab": {
      "provenance": [],
      "authorship_tag": "ABX9TyP3I73Y5SdZx2B1iBdbNIRR",
      "include_colab_link": true
    },
    "kernelspec": {
      "name": "python3",
      "display_name": "Python 3"
    },
    "language_info": {
      "name": "python"
    }
  },
  "cells": [
    {
      "cell_type": "markdown",
      "metadata": {
        "id": "view-in-github",
        "colab_type": "text"
      },
      "source": [
        "<a href=\"https://colab.research.google.com/github/PosgradoMNA/actividades-de-aprendizaje-DGarcia-A01086411/blob/main/Semana_4_Data_Analysis_with_Python_Modulo_1.ipynb\" target=\"_parent\"><img src=\"https://colab.research.google.com/assets/colab-badge.svg\" alt=\"Open In Colab\"/></a>"
      ]
    },
    {
      "cell_type": "code",
      "execution_count": 1,
      "metadata": {
        "id": "cV-PQANLBAdg"
      },
      "outputs": [],
      "source": [
        "#David Eduardo Garcia Reyes - A01086411\n",
        "\n",
        "#Actividad Semana 4 - Data Analysis with Python\n",
        "#Modulo 1"
      ]
    },
    {
      "cell_type": "code",
      "source": [],
      "metadata": {
        "id": "dXj4OlcnGjYE"
      },
      "execution_count": null,
      "outputs": []
    }
  ]
}